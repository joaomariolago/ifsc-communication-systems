{
 "cells": [
  {
   "cell_type": "markdown",
   "id": "267bbedf",
   "metadata": {},
   "source": [
    "# Análise da Modulação MFSK com base no script `mfsk.m`\n",
    "\n",
    "Dado o script `mfsk.m`, disponível no SIGAA, descreva e/ou responda às questões abaixo:\n",
    "\n",
    "---"
   ]
  },
  {
   "cell_type": "code",
   "execution_count": 15,
   "id": "6413bd54",
   "metadata": {},
   "outputs": [
    {
     "data": {
      "image/png": "[encoded data removed]",
      "text/plain": [
       "<Figure size 600x600 with 1 Axes>"
      ]
     },
     "metadata": {},
     "output_type": "display_data"
    }
   ],
   "source": [
    "import numpy as np\n",
    "import matplotlib.pyplot as plt\n",
    "from scipy.signal import resample\n",
    "from numpy.random import randint\n",
    "from scipy.special import erfc\n",
    "\n",
    "# Parâmetros do sistema\n",
    "Eb = 45e-6        # Energia por bit (não usado diretamente)\n",
    "N0 = 1e-6         # Densidade espectral de potência (idem)\n",
    "M = 4             # Ordem da modulação (M-FSK)\n",
    "Nsym = int(2e4)   # Número de símbolos\n",
    "\n",
    "Rb = 10e3         # Taxa de bits (bits/s)\n",
    "Fs = 100e3        # Frequência de amostragem (Hz)\n",
    "Ns = int(Fs / Rb) # Amostras por símbolo\n",
    "\n",
    "freqSep = Rb / 2  # Separação de frequência Δf\n",
    "\n",
    "# Geração dos dados aleatórios\n",
    "data = randint(0, M, size=Nsym)\n",
    "\n",
    "# Tempo de um símbolo\n",
    "tSym = np.arange(Ns) / Fs\n",
    "\n",
    "# Pré-alocação do vetor de saída\n",
    "y_fsk = np.zeros(Nsym * Ns, dtype=complex)\n",
    "\n",
    "# Frequência central (usada para sinal complexo baseband)\n",
    "fc = 0\n",
    "\n",
    "# Geração do sinal FSK\n",
    "for k in range(Nsym):\n",
    "    m = data[k]\n",
    "    f_k = fc + (m - (M - 1) / 2) * freqSep\n",
    "    idx_start = k * Ns\n",
    "    y_fsk[idx_start:idx_start+Ns] = np.exp(1j * 2 * np.pi * f_k * tSym)\n",
    "\n",
    "# Canal com atenuação\n",
    "atten = 1  # 0.5 ⇒ perda de 50%\n",
    "y_chan = y_fsk * atten\n",
    "\n",
    "# Adição de ruído AWGN com Eb/N0\n",
    "EbN0_dB = 45\n",
    "SNR_dB = EbN0_dB + 10 * np.log10(np.log2(M)) - 10 * np.log10(Ns)\n",
    "\n",
    "# Cálculo da potência do sinal\n",
    "signal_power = np.mean(np.abs(y_chan)**2)\n",
    "SNR_linear = 10 ** (SNR_dB / 10)\n",
    "noise_power = signal_power / SNR_linear\n",
    "\n",
    "# Geração de ruído complexo\n",
    "noise = np.sqrt(noise_power / 2) * (np.random.randn(len(y_chan)) + 1j * np.random.randn(len(y_chan)))\n",
    "y_noise = y_chan + noise\n",
    "\n",
    "# Extração de uma amostra por símbolo (amostra do meio)\n",
    "midSamp = int(Ns / 2)\n",
    "pts = y_noise[midSamp::Ns]\n",
    "\n",
    "# Plot da constelação\n",
    "plt.figure(figsize=(6, 6))\n",
    "plt.grid(True)\n",
    "plt.axis('equal')\n",
    "plt.scatter(np.real(pts), np.imag(pts))\n",
    "plt.title(f'{M}-FSK – Δf = {freqSep:.1f} Hz, h = {freqSep / Rb:.2f}')\n",
    "plt.xlabel('In-phase (I)')\n",
    "plt.ylabel('Quadrature (Q)')\n",
    "plt.show()\n"
   ]
  },
  {
   "cell_type": "markdown",
   "id": "9ef24222",
   "metadata": {},
   "source": [
    "### a) Frequências dos símbolos (M = 4, Rb = 10 kHz, freqSep = 5 kHz)\n",
    "\n",
    "Dado:\n",
    "- $ M = 4 $\n",
    "- $ R_b = 10~\\text{kHz} $\n",
    "- $ \\text{freqSep} = 5~\\text{kHz} $\n",
    "\n",
    "As quatro frequências usadas para representar os símbolos $0, 1, 2, 3$ são:\n",
    "\n",
    "$$\n",
    "f_i = fc + (m - \\frac{(M-1)}{2})·\\Delta f, \\quad i = 1, 2, 3, 4\n",
    "$$\n",
    "\n",
    "Assumindo uma frequência central $f_c$, as frequências relativas para os símbolos são:\n",
    "\n",
    "- Símbolo 0: $ f_0 = f_c - 7500~\\text{Hz} $\n",
    "- Símbolo 1: $ f_1 = f_c - 2500~\\text{Hz} $\n",
    "- Símbolo 2: $ f_2 = f_c + 2500~\\text{Hz} $\n",
    "- Símbolo 3: $ f_3 = f_c + 7500~\\text{Hz} $\n",
    "\n",
    "---"
   ]
  },
  {
   "cell_type": "markdown",
   "id": "3539efa9",
   "metadata": {},
   "source": [
    "### b) Índice de modulação e ortogonalidade\n",
    "\n",
    "O índice de modulação $ h $ é dado por:\n",
    "\n",
    "$$\n",
    "h = \\frac{\\Delta f}{R_b}\n",
    "$$\n",
    "\n",
    "No caso da modulação **MFSK (Multiple Frequency Shift Keying)**, os tons são ortogonais quando a separação de frequência $ \\Delta f $ é **um múltiplo inteiro da taxa de bits**:\n",
    "\n",
    "$$\n",
    "\\Delta f = k \\cdot R_b \\quad \\Rightarrow \\quad h = k\n",
    "$$\n",
    "\n",
    "Logo, a **modulação MFSK se torna ortogonal quando $ h $ é inteiro**: $ h = 1, 2, 3, \\dots $\n",
    "\n",
    "> Por outro lado, em **MSK (Minimum Shift Keying)** — uma forma especial de FSK com fase contínua — a ortogonalidade mínima ocorre para:\n",
    ">\n",
    "> $$\n",
    "> h = \\frac{1}{2} \\Rightarrow \\Delta f = \\frac{R_b}{2}\n",
    "> $$\n",
    ">\n",
    "> Essa é a menor separação de frequência que ainda garante ortogonalidade **com continuidade de fase**.\n",
    "\n",
    "---"
   ]
  },
  {
   "cell_type": "markdown",
   "id": "f94483dc",
   "metadata": {},
   "source": [
    "### c) Amostragem (Rb = 10 kHz, Fs = 100 kHz)\n",
    "\n",
    "$$\n",
    "R_b = 10~\\text{kHz}, \\quad F_s = 100~\\text{kHz}\n",
    "$$\n",
    "\n",
    "O número de amostras por símbolo é:\n",
    "\n",
    "$$\n",
    "\\text{Samples/símbolo} = \\frac{F_s}{R_b} = \\frac{100~\\text{kHz}}{10~\\text{kHz}} = 10\n",
    "$$\n",
    "\n",
    "Se $ F_s $ **não for múltiplo de** $ R_b $, a quantidade de amostras por símbolo não será um número inteiro, dificultando a geração e a detecção precisa dos símbolos, além de poder introduzir **aliasing** e **erros de sincronização**, gerando uma distorção na constelação.\n",
    "\n",
    "---"
   ]
  },
  {
   "cell_type": "markdown",
   "id": "fc5eb3b1",
   "metadata": {},
   "source": [
    "### d) Atenuação do sinal: `y_chan = y_fsk * 0.5`\n",
    "\n",
    "Multiplicar o sinal por 0.5 equivale a atenuar sua amplitude:\n",
    "\n",
    "$$\n",
    "y_{\\text{chan}} = 0.5 \\cdot y_{\\text{fsk}}\n",
    "$$\n",
    "\n",
    "A **energia média do sinal** é proporcional ao **quadrado da amplitude**. Portanto, a energia será reduzida por um fator de:\n",
    "\n",
    "$$\n",
    "(0.5)^2 = 0.25\n",
    "$$\n",
    "\n",
    "Logo, a **energia média torna-se 25%** do valor original.\n",
    "\n",
    "---"
   ]
  },
  {
   "cell_type": "markdown",
   "id": "d5950d2f",
   "metadata": {},
   "source": [
    "### e) Efeito do ruído AWGN na constelação I/Q\n",
    "\n",
    "Ao adicionar ruído com a função `awgn`, o sinal se torna corrompido por **ruído branco gaussiano aditivo**, afetando sua representação na constelação I/Q.\n",
    "\n",
    "- Com $ E_b/N_0 $ **alto**, o sinal apresenta **alta razão sinal-ruído**, ou seja, os pontos da constelação permanecem **concentrados** e **claramente definidos**.\n",
    "- Com $ E_b/N_0 $ **baixo**, os pontos se tornam **espalhados** devido ao ruído, aumentando a **probabilidade de erro** na detecção dos símbolos.\n",
    "\n",
    "Visualmente:\n",
    "- $ E_b/N_0 $ alto -> pontos bem agrupados\n",
    "- $ E_b/N_0 $ baixo -> pontos dispersos e sobrepostos"
   ]
  }
 ],
 "metadata": {
  "kernelspec": {
   "display_name": ".venv",
   "language": "python",
   "name": "python3"
  },
  "language_info": {
   "codemirror_mode": {
    "name": "ipython",
    "version": 3
   },
   "file_extension": ".py",
   "mimetype": "text/x-python",
   "name": "python",
   "nbconvert_exporter": "python",
   "pygments_lexer": "ipython3",
   "version": "3.12.10"
  }
 },
 "nbformat": 4,
 "nbformat_minor": 5
}
